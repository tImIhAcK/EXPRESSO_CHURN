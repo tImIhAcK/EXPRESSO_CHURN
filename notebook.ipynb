{
 "cells": [
  {
   "cell_type": "code",
   "execution_count": 1,
   "metadata": {},
   "outputs": [],
   "source": [
    "import numpy as np\n",
    "import pandas as pd\n",
    "import pickle\n",
    "import time\n",
    "from random import randint\n",
    "\n",
    "from sklearn import metrics, preprocessing, model_selection\n",
    "from tabulate import tabulate\n",
    "\n",
    "import catboost as cat\n",
    "import lightgbm as lgb\n",
    "\n",
    "np.random.seed(43)"
   ]
  },
  {
   "cell_type": "code",
   "execution_count": 2,
   "metadata": {},
   "outputs": [],
   "source": [
    "train = pd.read_csv('Train.csv')\n",
    "test = pd.read_csv('Test.csv')"
   ]
  },
  {
   "cell_type": "code",
   "execution_count": 3,
   "metadata": {},
   "outputs": [
    {
     "data": {
      "text/html": [
       "<div>\n",
       "<style scoped>\n",
       "    .dataframe tbody tr th:only-of-type {\n",
       "        vertical-align: middle;\n",
       "    }\n",
       "\n",
       "    .dataframe tbody tr th {\n",
       "        vertical-align: top;\n",
       "    }\n",
       "\n",
       "    .dataframe thead th {\n",
       "        text-align: right;\n",
       "    }\n",
       "</style>\n",
       "<table border=\"1\" class=\"dataframe\">\n",
       "  <thead>\n",
       "    <tr style=\"text-align: right;\">\n",
       "      <th></th>\n",
       "      <th>user_id</th>\n",
       "      <th>REGION</th>\n",
       "      <th>TENURE</th>\n",
       "      <th>MONTANT</th>\n",
       "      <th>FREQUENCE_RECH</th>\n",
       "      <th>REVENUE</th>\n",
       "      <th>ARPU_SEGMENT</th>\n",
       "      <th>FREQUENCE</th>\n",
       "      <th>DATA_VOLUME</th>\n",
       "      <th>ON_NET</th>\n",
       "      <th>ORANGE</th>\n",
       "      <th>TIGO</th>\n",
       "      <th>ZONE1</th>\n",
       "      <th>ZONE2</th>\n",
       "      <th>MRG</th>\n",
       "      <th>REGULARITY</th>\n",
       "      <th>TOP_PACK</th>\n",
       "      <th>FREQ_TOP_PACK</th>\n",
       "      <th>CHURN</th>\n",
       "    </tr>\n",
       "  </thead>\n",
       "  <tbody>\n",
       "    <tr>\n",
       "      <th>0</th>\n",
       "      <td>dcf68cc2fb515ccad7d8b9b3bd80ee2a4b270063</td>\n",
       "      <td>SAINT-LOUIS</td>\n",
       "      <td>K &gt; 24 month</td>\n",
       "      <td>17000.0</td>\n",
       "      <td>32.0</td>\n",
       "      <td>18000.0</td>\n",
       "      <td>6000.0</td>\n",
       "      <td>34.0</td>\n",
       "      <td>NaN</td>\n",
       "      <td>97.0</td>\n",
       "      <td>355.0</td>\n",
       "      <td>6.0</td>\n",
       "      <td>NaN</td>\n",
       "      <td>NaN</td>\n",
       "      <td>NO</td>\n",
       "      <td>62</td>\n",
       "      <td>All-net 500F=2000F;5d</td>\n",
       "      <td>35.0</td>\n",
       "      <td>0</td>\n",
       "    </tr>\n",
       "    <tr>\n",
       "      <th>1</th>\n",
       "      <td>71c44b5ba328db5c4192a80f7cf8f244d9350ed0</td>\n",
       "      <td>NaN</td>\n",
       "      <td>K &gt; 24 month</td>\n",
       "      <td>4300.0</td>\n",
       "      <td>29.0</td>\n",
       "      <td>4427.0</td>\n",
       "      <td>1476.0</td>\n",
       "      <td>37.0</td>\n",
       "      <td>1764.0</td>\n",
       "      <td>8.0</td>\n",
       "      <td>3.0</td>\n",
       "      <td>0.0</td>\n",
       "      <td>NaN</td>\n",
       "      <td>2.0</td>\n",
       "      <td>NO</td>\n",
       "      <td>40</td>\n",
       "      <td>Data: 100 F=40MB,24H</td>\n",
       "      <td>22.0</td>\n",
       "      <td>0</td>\n",
       "    </tr>\n",
       "    <tr>\n",
       "      <th>2</th>\n",
       "      <td>ce46411b1526c94f20a383b8cb188f8d27f82a0a</td>\n",
       "      <td>TAMBACOUNDA</td>\n",
       "      <td>K &gt; 24 month</td>\n",
       "      <td>1500.0</td>\n",
       "      <td>3.0</td>\n",
       "      <td>1500.0</td>\n",
       "      <td>500.0</td>\n",
       "      <td>3.0</td>\n",
       "      <td>NaN</td>\n",
       "      <td>30.0</td>\n",
       "      <td>30.0</td>\n",
       "      <td>NaN</td>\n",
       "      <td>NaN</td>\n",
       "      <td>NaN</td>\n",
       "      <td>NO</td>\n",
       "      <td>32</td>\n",
       "      <td>All-net 500F=2000F;5d</td>\n",
       "      <td>3.0</td>\n",
       "      <td>0</td>\n",
       "    </tr>\n",
       "    <tr>\n",
       "      <th>3</th>\n",
       "      <td>f467cdb6669818373c26c2bad44e01ba66f97d21</td>\n",
       "      <td>FATICK</td>\n",
       "      <td>K &gt; 24 month</td>\n",
       "      <td>1500.0</td>\n",
       "      <td>3.0</td>\n",
       "      <td>2497.0</td>\n",
       "      <td>832.0</td>\n",
       "      <td>4.0</td>\n",
       "      <td>0.0</td>\n",
       "      <td>159.0</td>\n",
       "      <td>45.0</td>\n",
       "      <td>19.0</td>\n",
       "      <td>NaN</td>\n",
       "      <td>NaN</td>\n",
       "      <td>NO</td>\n",
       "      <td>18</td>\n",
       "      <td>On net 200F=Unlimited _call24H</td>\n",
       "      <td>3.0</td>\n",
       "      <td>0</td>\n",
       "    </tr>\n",
       "    <tr>\n",
       "      <th>4</th>\n",
       "      <td>ec45e1a1888a32b5dcce0954cfec20c6e037db31</td>\n",
       "      <td>FATICK</td>\n",
       "      <td>K &gt; 24 month</td>\n",
       "      <td>NaN</td>\n",
       "      <td>NaN</td>\n",
       "      <td>498.0</td>\n",
       "      <td>166.0</td>\n",
       "      <td>3.0</td>\n",
       "      <td>1.0</td>\n",
       "      <td>1.0</td>\n",
       "      <td>3.0</td>\n",
       "      <td>NaN</td>\n",
       "      <td>NaN</td>\n",
       "      <td>NaN</td>\n",
       "      <td>NO</td>\n",
       "      <td>50</td>\n",
       "      <td>NaN</td>\n",
       "      <td>NaN</td>\n",
       "      <td>0</td>\n",
       "    </tr>\n",
       "  </tbody>\n",
       "</table>\n",
       "</div>"
      ],
      "text/plain": [
       "                                    user_id       REGION        TENURE  \\\n",
       "0  dcf68cc2fb515ccad7d8b9b3bd80ee2a4b270063  SAINT-LOUIS  K > 24 month   \n",
       "1  71c44b5ba328db5c4192a80f7cf8f244d9350ed0          NaN  K > 24 month   \n",
       "2  ce46411b1526c94f20a383b8cb188f8d27f82a0a  TAMBACOUNDA  K > 24 month   \n",
       "3  f467cdb6669818373c26c2bad44e01ba66f97d21       FATICK  K > 24 month   \n",
       "4  ec45e1a1888a32b5dcce0954cfec20c6e037db31       FATICK  K > 24 month   \n",
       "\n",
       "   MONTANT  FREQUENCE_RECH  REVENUE  ARPU_SEGMENT  FREQUENCE  DATA_VOLUME  \\\n",
       "0  17000.0            32.0  18000.0        6000.0       34.0          NaN   \n",
       "1   4300.0            29.0   4427.0        1476.0       37.0       1764.0   \n",
       "2   1500.0             3.0   1500.0         500.0        3.0          NaN   \n",
       "3   1500.0             3.0   2497.0         832.0        4.0          0.0   \n",
       "4      NaN             NaN    498.0         166.0        3.0          1.0   \n",
       "\n",
       "   ON_NET  ORANGE  TIGO  ZONE1  ZONE2 MRG  REGULARITY  \\\n",
       "0    97.0   355.0   6.0    NaN    NaN  NO          62   \n",
       "1     8.0     3.0   0.0    NaN    2.0  NO          40   \n",
       "2    30.0    30.0   NaN    NaN    NaN  NO          32   \n",
       "3   159.0    45.0  19.0    NaN    NaN  NO          18   \n",
       "4     1.0     3.0   NaN    NaN    NaN  NO          50   \n",
       "\n",
       "                         TOP_PACK  FREQ_TOP_PACK  CHURN  \n",
       "0           All-net 500F=2000F;5d           35.0      0  \n",
       "1            Data: 100 F=40MB,24H           22.0      0  \n",
       "2           All-net 500F=2000F;5d            3.0      0  \n",
       "3  On net 200F=Unlimited _call24H            3.0      0  \n",
       "4                             NaN            NaN      0  "
      ]
     },
     "execution_count": 3,
     "metadata": {},
     "output_type": "execute_result"
    }
   ],
   "source": [
    "train.head()"
   ]
  },
  {
   "cell_type": "code",
   "execution_count": 4,
   "metadata": {},
   "outputs": [
    {
     "data": {
      "text/plain": [
       "user_id                0\n",
       "REGION            157520\n",
       "TENURE                 0\n",
       "MONTANT           140277\n",
       "FREQUENCE_RECH    140277\n",
       "REVENUE           134663\n",
       "ARPU_SEGMENT      134663\n",
       "FREQUENCE         134663\n",
       "DATA_VOLUME       196854\n",
       "ON_NET            145819\n",
       "ORANGE            166317\n",
       "TIGO              239386\n",
       "ZONE1             368310\n",
       "ZONE2             374487\n",
       "MRG                    0\n",
       "REGULARITY             0\n",
       "TOP_PACK          167329\n",
       "FREQ_TOP_PACK     167329\n",
       "CHURN                  0\n",
       "dtype: int64"
      ]
     },
     "execution_count": 4,
     "metadata": {},
     "output_type": "execute_result"
    }
   ],
   "source": [
    "train.isna().sum()"
   ]
  },
  {
   "cell_type": "code",
   "execution_count": 5,
   "metadata": {},
   "outputs": [],
   "source": [
    "class Preprocess():\n",
    "    def __init__(self, data):\n",
    "        self.data = data\n",
    "        self.cat_col = ['REGION', 'TOP_PACK']\n",
    "    def fillna(self):\n",
    "        for col in self.data.columns:\n",
    "            if col in self.cat_col:\n",
    "                self.data[col].fillna('N/A', inplace=True)\n",
    "            else:\n",
    "                self.data[col].fillna(-1, inplace=True)\n",
    "#     def encode(self):\n",
    "#         for col in self.cat_col:\n",
    "#             self.data[col] = pd.factorize(self.data[col])[0]\n",
    "#     def mapper(self, col):\n",
    "#         ten_map = { \"K > 24 month\": 24, \n",
    "#           \"I 18-21 month\": 18, \n",
    "#           \"G 12-15 month\": 12, \n",
    "#           \"H 15-18 month\": 15, \n",
    "#           \"J 21-24 month\": 21, \n",
    "#           \"F 9-12 month\": 9, \n",
    "#           \"D 3-6 month\": 3, \n",
    "#           \"E 6-9 month\": 6 }\n",
    "#         self.data[col].replace(ten_map, inplace=True)\n",
    "    def fit(self):\n",
    "        self.data.drop(['user_id', 'TIGO', 'ZONE1', 'ZONE2', 'MRG'], inplace=True, axis=1)\n",
    "#         self.mapper('TENURE')\n",
    "        self.fillna()\n",
    "#         self.encode()\n",
    "        return self.data"
   ]
  },
  {
   "cell_type": "code",
   "execution_count": 6,
   "metadata": {},
   "outputs": [
    {
     "data": {
      "text/plain": [
       "REGION            0\n",
       "TENURE            0\n",
       "MONTANT           0\n",
       "FREQUENCE_RECH    0\n",
       "REVENUE           0\n",
       "ARPU_SEGMENT      0\n",
       "FREQUENCE         0\n",
       "DATA_VOLUME       0\n",
       "ON_NET            0\n",
       "ORANGE            0\n",
       "REGULARITY        0\n",
       "TOP_PACK          0\n",
       "FREQ_TOP_PACK     0\n",
       "CHURN             0\n",
       "dtype: int64"
      ]
     },
     "execution_count": 6,
     "metadata": {},
     "output_type": "execute_result"
    }
   ],
   "source": [
    "train_preprocess = Preprocess(train)\n",
    "train = train_preprocess.fit()\n",
    "train.isna().sum()"
   ]
  },
  {
   "cell_type": "code",
   "execution_count": 7,
   "metadata": {},
   "outputs": [
    {
     "data": {
      "text/html": [
       "<div>\n",
       "<style scoped>\n",
       "    .dataframe tbody tr th:only-of-type {\n",
       "        vertical-align: middle;\n",
       "    }\n",
       "\n",
       "    .dataframe tbody tr th {\n",
       "        vertical-align: top;\n",
       "    }\n",
       "\n",
       "    .dataframe thead th {\n",
       "        text-align: right;\n",
       "    }\n",
       "</style>\n",
       "<table border=\"1\" class=\"dataframe\">\n",
       "  <thead>\n",
       "    <tr style=\"text-align: right;\">\n",
       "      <th></th>\n",
       "      <th>REGION</th>\n",
       "      <th>TENURE</th>\n",
       "      <th>MONTANT</th>\n",
       "      <th>FREQUENCE_RECH</th>\n",
       "      <th>REVENUE</th>\n",
       "      <th>ARPU_SEGMENT</th>\n",
       "      <th>FREQUENCE</th>\n",
       "      <th>DATA_VOLUME</th>\n",
       "      <th>ON_NET</th>\n",
       "      <th>ORANGE</th>\n",
       "      <th>REGULARITY</th>\n",
       "      <th>TOP_PACK</th>\n",
       "      <th>FREQ_TOP_PACK</th>\n",
       "      <th>CHURN</th>\n",
       "    </tr>\n",
       "  </thead>\n",
       "  <tbody>\n",
       "    <tr>\n",
       "      <th>0</th>\n",
       "      <td>SAINT-LOUIS</td>\n",
       "      <td>K &gt; 24 month</td>\n",
       "      <td>17000.0</td>\n",
       "      <td>32.0</td>\n",
       "      <td>18000.0</td>\n",
       "      <td>6000.0</td>\n",
       "      <td>34.0</td>\n",
       "      <td>-1.0</td>\n",
       "      <td>97.0</td>\n",
       "      <td>355.0</td>\n",
       "      <td>62</td>\n",
       "      <td>All-net 500F=2000F;5d</td>\n",
       "      <td>35.0</td>\n",
       "      <td>0</td>\n",
       "    </tr>\n",
       "    <tr>\n",
       "      <th>1</th>\n",
       "      <td>N/A</td>\n",
       "      <td>K &gt; 24 month</td>\n",
       "      <td>4300.0</td>\n",
       "      <td>29.0</td>\n",
       "      <td>4427.0</td>\n",
       "      <td>1476.0</td>\n",
       "      <td>37.0</td>\n",
       "      <td>1764.0</td>\n",
       "      <td>8.0</td>\n",
       "      <td>3.0</td>\n",
       "      <td>40</td>\n",
       "      <td>Data: 100 F=40MB,24H</td>\n",
       "      <td>22.0</td>\n",
       "      <td>0</td>\n",
       "    </tr>\n",
       "    <tr>\n",
       "      <th>2</th>\n",
       "      <td>TAMBACOUNDA</td>\n",
       "      <td>K &gt; 24 month</td>\n",
       "      <td>1500.0</td>\n",
       "      <td>3.0</td>\n",
       "      <td>1500.0</td>\n",
       "      <td>500.0</td>\n",
       "      <td>3.0</td>\n",
       "      <td>-1.0</td>\n",
       "      <td>30.0</td>\n",
       "      <td>30.0</td>\n",
       "      <td>32</td>\n",
       "      <td>All-net 500F=2000F;5d</td>\n",
       "      <td>3.0</td>\n",
       "      <td>0</td>\n",
       "    </tr>\n",
       "    <tr>\n",
       "      <th>3</th>\n",
       "      <td>FATICK</td>\n",
       "      <td>K &gt; 24 month</td>\n",
       "      <td>1500.0</td>\n",
       "      <td>3.0</td>\n",
       "      <td>2497.0</td>\n",
       "      <td>832.0</td>\n",
       "      <td>4.0</td>\n",
       "      <td>0.0</td>\n",
       "      <td>159.0</td>\n",
       "      <td>45.0</td>\n",
       "      <td>18</td>\n",
       "      <td>On net 200F=Unlimited _call24H</td>\n",
       "      <td>3.0</td>\n",
       "      <td>0</td>\n",
       "    </tr>\n",
       "    <tr>\n",
       "      <th>4</th>\n",
       "      <td>FATICK</td>\n",
       "      <td>K &gt; 24 month</td>\n",
       "      <td>-1.0</td>\n",
       "      <td>-1.0</td>\n",
       "      <td>498.0</td>\n",
       "      <td>166.0</td>\n",
       "      <td>3.0</td>\n",
       "      <td>1.0</td>\n",
       "      <td>1.0</td>\n",
       "      <td>3.0</td>\n",
       "      <td>50</td>\n",
       "      <td>N/A</td>\n",
       "      <td>-1.0</td>\n",
       "      <td>0</td>\n",
       "    </tr>\n",
       "  </tbody>\n",
       "</table>\n",
       "</div>"
      ],
      "text/plain": [
       "        REGION        TENURE  MONTANT  FREQUENCE_RECH  REVENUE  ARPU_SEGMENT  \\\n",
       "0  SAINT-LOUIS  K > 24 month  17000.0            32.0  18000.0        6000.0   \n",
       "1          N/A  K > 24 month   4300.0            29.0   4427.0        1476.0   \n",
       "2  TAMBACOUNDA  K > 24 month   1500.0             3.0   1500.0         500.0   \n",
       "3       FATICK  K > 24 month   1500.0             3.0   2497.0         832.0   \n",
       "4       FATICK  K > 24 month     -1.0            -1.0    498.0         166.0   \n",
       "\n",
       "   FREQUENCE  DATA_VOLUME  ON_NET  ORANGE  REGULARITY  \\\n",
       "0       34.0         -1.0    97.0   355.0          62   \n",
       "1       37.0       1764.0     8.0     3.0          40   \n",
       "2        3.0         -1.0    30.0    30.0          32   \n",
       "3        4.0          0.0   159.0    45.0          18   \n",
       "4        3.0          1.0     1.0     3.0          50   \n",
       "\n",
       "                         TOP_PACK  FREQ_TOP_PACK  CHURN  \n",
       "0           All-net 500F=2000F;5d           35.0      0  \n",
       "1            Data: 100 F=40MB,24H           22.0      0  \n",
       "2           All-net 500F=2000F;5d            3.0      0  \n",
       "3  On net 200F=Unlimited _call24H            3.0      0  \n",
       "4                             N/A           -1.0      0  "
      ]
     },
     "execution_count": 7,
     "metadata": {},
     "output_type": "execute_result"
    }
   ],
   "source": [
    "train.head()"
   ]
  },
  {
   "cell_type": "code",
   "execution_count": 8,
   "metadata": {},
   "outputs": [
    {
     "data": {
      "text/plain": [
       "REGION             object\n",
       "TENURE             object\n",
       "MONTANT           float64\n",
       "FREQUENCE_RECH    float64\n",
       "REVENUE           float64\n",
       "ARPU_SEGMENT      float64\n",
       "FREQUENCE         float64\n",
       "DATA_VOLUME       float64\n",
       "ON_NET            float64\n",
       "ORANGE            float64\n",
       "REGULARITY          int64\n",
       "TOP_PACK           object\n",
       "FREQ_TOP_PACK     float64\n",
       "CHURN               int64\n",
       "dtype: object"
      ]
     },
     "execution_count": 8,
     "metadata": {},
     "output_type": "execute_result"
    }
   ],
   "source": [
    "train.dtypes"
   ]
  },
  {
   "cell_type": "code",
   "execution_count": 9,
   "metadata": {},
   "outputs": [
    {
     "data": {
      "text/plain": [
       "array([ 0,  1, 11], dtype=int64)"
      ]
     },
     "execution_count": 9,
     "metadata": {},
     "output_type": "execute_result"
    }
   ],
   "source": [
    "cat_feat = np.where(train.dtypes == np.object)[0]\n",
    "cat_feat"
   ]
  },
  {
   "cell_type": "code",
   "execution_count": 10,
   "metadata": {},
   "outputs": [],
   "source": [
    "X = train.drop(['CHURN'], axis=1)\n",
    "y = train.CHURN\n",
    "x_train, x_test, y_train, y_test = model_selection.train_test_split(X, y, stratify=y, test_size=0.2, random_state=43)"
   ]
  },
  {
   "cell_type": "code",
   "execution_count": 11,
   "metadata": {},
   "outputs": [],
   "source": [
    "class Estimator():\n",
    "    def __init__(self, clf, name, x_train, y_train, x_test, y_test, VB=100, ESR=100):\n",
    "        self.model = clf\n",
    "        self.model_name = name\n",
    "        self.x_tr = x_train\n",
    "        self.y_tr = y_train\n",
    "        self.x_ts = x_test\n",
    "        self.y_ts = y_test\n",
    "        self.vb = VB\n",
    "        self.ESR = ESR\n",
    "        \n",
    "    def run(self):\n",
    "        self.train()\n",
    "        table_score = self.score()\n",
    "        print(table_score)\n",
    "        self.save_model()\n",
    "        return self.model\n",
    "        \n",
    "    def train(self):\n",
    "        print(f'[INFO] - TRAINING {self.model_name}\\n')\n",
    "        start = time.time() # training start time\n",
    "        self.model.fit(self.x_tr, self.y_tr, eval_set=[(self.x_tr, self.y_tr), (self.x_ts, self.y_ts)],\n",
    "                       verbose=100, early_stopping_rounds=100)\n",
    "        self.tr_end = time.ctime(time.time() - start).split()[3] # training end time\n",
    "        \n",
    "    def score(self):\n",
    "        start = time.time() # Prediction strart time\n",
    "        self.tr_preds=self.model.predict_proba(self.x_tr)[:,1]\n",
    "        self.ts_preds=self.model.predict_proba(self.x_ts)[:,1]\n",
    "        # Prediction end time\n",
    "        self.pr_end = time.ctime(time.time() - start).split()[3]\n",
    "        \n",
    "        scores = {\n",
    "            'Train ACC': [],\n",
    "            'Test ACC': [],\n",
    "            'Train AUC': [],\n",
    "            'Test AUC': [],\n",
    "            'Train Logloss': [],\n",
    "            'Test Logloss': []\n",
    "        }\n",
    "        \n",
    "        tr_acc = self.model.score(self.x_tr, self.y_tr)\n",
    "        ts_acc = self.model.score(self.x_ts, self.y_ts)\n",
    "        tr_auc = metrics.roc_auc_score(self.y_ts, self.ts_preds)\n",
    "        ts_auc = metrics.roc_auc_score(self.y_tr, self.tr_preds)\n",
    "        tr_lls = metrics.log_loss(self.y_tr, self.tr_preds)\n",
    "        ts_lls = metrics.log_loss(self.y_ts, self.ts_preds)\n",
    "        \n",
    "        scores['Train ACC'] = [tr_acc]\n",
    "        scores['Test ACC'] = [ts_acc]\n",
    "        scores['Train AUC'] = [tr_auc]\n",
    "        scores['Test AUC'] = [ts_auc]\n",
    "        scores['Train Logloss'] = [tr_lls]\n",
    "        scores['Test Logloss'] = [ts_lls]\n",
    "        scores['Training Time'] = [self.tr_end]\n",
    "        scores['Prediction Time'] = [self.pr_end]\n",
    "        \n",
    "        table_score = tabulate(scores, headers='keys', tablefmt='fancy_grid')\n",
    "        return table_score\n",
    "    \n",
    "    def save_model(self):\n",
    "        print('[INFO] - Saving model...')\n",
    "        filename = self.model_name.split(' ')[0] + '_' + hex(randint(0, 255))\n",
    "        pickle.dump(self.model, open(filename, 'wb'))\n",
    "        print(f\"saved '{filename}'.\")"
   ]
  },
  {
   "cell_type": "code",
   "execution_count": 12,
   "metadata": {},
   "outputs": [
    {
     "name": "stdout",
     "output_type": "stream",
     "text": [
      "[INFO] - TRAINING CATBOOST CLASSIFIER\n",
      "\n",
      "Learning rate set to 0.131729\n",
      "0:\tlearn: 0.5053694\ttest: 0.5053456\ttest1: 0.5065633\tbest: 0.5065633 (0)\ttotal: 1.72s\tremaining: 28m 33s\n",
      "100:\tlearn: 0.2477841\ttest: 0.2483042\ttest1: 0.2543671\tbest: 0.2543477 (97)\ttotal: 2m 9s\tremaining: 19m 8s\n",
      "Stopped by overfitting detector  (100 iterations wait)\n",
      "\n",
      "bestTest = 0.2543476648\n",
      "bestIteration = 97\n",
      "\n",
      "Shrink model to first 98 iterations.\n",
      "╒═════════════╤════════════╤═════════════╤════════════╤═════════════════╤════════════════╤═════════════════╤═══════════════════╕\n",
      "│   Train ACC │   Test ACC │   Train AUC │   Test AUC │   Train Logloss │   Test Logloss │ Training Time   │ Prediction Time   │\n",
      "╞═════════════╪════════════╪═════════════╪════════════╪═════════════════╪════════════════╪═════════════════╪═══════════════════╡\n",
      "│    0.881353 │   0.876363 │    0.929277 │   0.932936 │        0.248382 │       0.254348 │ 16:04:28        │ 16:00:01          │\n",
      "╘═════════════╧════════════╧═════════════╧════════════╧═════════════════╧════════════════╧═════════════════╧═══════════════════╛\n",
      "[INFO] - Saving model...\n",
      "saved 'CATBOOST_0xcb'.\n"
     ]
    }
   ],
   "source": [
    "cat_clf = cat.CatBoostClassifier(n_estimators=1000, bootstrap_type='MVS', \n",
    "                                 eval_metric='Logloss', max_depth=9,\n",
    "                                 cat_features=cat_feat, random_seed= 23, use_best_model=True)\n",
    "name = 'CATBOOST CLASSIFIER'\n",
    "estimator = Estimator(cat_clf, name, x_train, y_train, x_test, y_test)\n",
    "model = estimator.run()"
   ]
  },
  {
   "cell_type": "code",
   "execution_count": 13,
   "metadata": {},
   "outputs": [
    {
     "data": {
      "text/plain": [
       "REGION            0\n",
       "TENURE            0\n",
       "MONTANT           0\n",
       "FREQUENCE_RECH    0\n",
       "REVENUE           0\n",
       "ARPU_SEGMENT      0\n",
       "FREQUENCE         0\n",
       "DATA_VOLUME       0\n",
       "ON_NET            0\n",
       "ORANGE            0\n",
       "REGULARITY        0\n",
       "TOP_PACK          0\n",
       "FREQ_TOP_PACK     0\n",
       "dtype: int64"
      ]
     },
     "execution_count": 13,
     "metadata": {},
     "output_type": "execute_result"
    }
   ],
   "source": [
    "test_preprocess = Preprocess(test)\n",
    "test = test_preprocess.fit()\n",
    "test.isna().sum()"
   ]
  },
  {
   "cell_type": "code",
   "execution_count": 18,
   "metadata": {},
   "outputs": [
    {
     "data": {
      "text/plain": [
       "array([0.78250634, 0.67727455, 0.14465804, ..., 0.02012456, 0.01097813,\n",
       "       0.04647731])"
      ]
     },
     "execution_count": 18,
     "metadata": {},
     "output_type": "execute_result"
    }
   ],
   "source": [
    "pred = model.predict_proba(test)[:, 1]\n",
    "pred"
   ]
  },
  {
   "cell_type": "code",
   "execution_count": 17,
   "metadata": {},
   "outputs": [
    {
     "data": {
      "text/plain": [
       "array([0.78250634, 0.67727455, 0.14465804, ..., 0.02012456, 0.01097813,\n",
       "       0.04647731])"
      ]
     },
     "execution_count": 17,
     "metadata": {},
     "output_type": "execute_result"
    }
   ],
   "source": [
    "loaded_model = pickle.load(open('CATBOOST_0xcb', 'rb'))\n",
    "pred = loaded_model.predict_proba(test)[:, 1]\n",
    "pred"
   ]
  },
  {
   "cell_type": "code",
   "execution_count": 12,
   "metadata": {},
   "outputs": [
    {
     "name": "stdout",
     "output_type": "stream",
     "text": [
      "[INFO] - TRAINING LIGHTGBM CLASSIFIER\n",
      "\n"
     ]
    },
    {
     "name": "stderr",
     "output_type": "stream",
     "text": [
      "c:\\users\\kings  court\\appdata\\local\\programs\\python\\python38\\lib\\site-packages\\lightgbm\\sklearn.py:726: UserWarning: 'early_stopping_rounds' argument is deprecated and will be removed in a future release of LightGBM. Pass 'early_stopping()' callback via 'callbacks' argument instead.\n",
      "  _log_warning(\"'early_stopping_rounds' argument is deprecated and will be removed in a future release of LightGBM. \"\n",
      "c:\\users\\kings  court\\appdata\\local\\programs\\python\\python38\\lib\\site-packages\\lightgbm\\sklearn.py:736: UserWarning: 'verbose' argument is deprecated and will be removed in a future release of LightGBM. Pass 'log_evaluation()' callback via 'callbacks' argument instead.\n",
      "  _log_warning(\"'verbose' argument is deprecated and will be removed in a future release of LightGBM. \"\n"
     ]
    },
    {
     "name": "stdout",
     "output_type": "stream",
     "text": [
      "[100]\ttraining's binary_logloss: 0.248523\tvalid_1's binary_logloss: 0.257336\n",
      "╒═════════════╤════════════╤═════════════╤════════════╤═════════════════╤════════════════╤═════════════════╤═══════════════════╕\n",
      "│   Train ACC │   Test ACC │   Train AUC │   Test AUC │   Train Logloss │   Test Logloss │ Training Time   │ Prediction Time   │\n",
      "╞═════════════╪════════════╪═════════════╪════════════╪═════════════════╪════════════════╪═════════════════╪═══════════════════╡\n",
      "│    0.880169 │     0.8762 │    0.929052 │   0.932496 │        0.249183 │       0.254824 │ 16:00:13        │ 16:00:01          │\n",
      "╘═════════════╧════════════╧═════════════╧════════════╧═════════════════╧════════════════╧═════════════════╧═══════════════════╛\n",
      "[INFO] - Saving model...\n",
      "saved 'LIGHTGBM_0xff'.\n"
     ]
    }
   ],
   "source": [
    "lgb_clf = lgb.LGBMClassifier(n_estimators=1000, random_seed= 10)\n",
    "name = 'LIGHTGBM CLASSIFIER'\n",
    "estimator = Estimator(lgb_clf, name, x_train, y_train, x_test, y_test)\n",
    "estimator.run()"
   ]
  },
  {
   "cell_type": "code",
   "execution_count": 30,
   "metadata": {},
   "outputs": [
    {
     "data": {
      "text/html": [
       "<div>\n",
       "<style scoped>\n",
       "    .dataframe tbody tr th:only-of-type {\n",
       "        vertical-align: middle;\n",
       "    }\n",
       "\n",
       "    .dataframe tbody tr th {\n",
       "        vertical-align: top;\n",
       "    }\n",
       "\n",
       "    .dataframe thead th {\n",
       "        text-align: right;\n",
       "    }\n",
       "</style>\n",
       "<table border=\"1\" class=\"dataframe\">\n",
       "  <thead>\n",
       "    <tr style=\"text-align: right;\">\n",
       "      <th></th>\n",
       "      <th>REGION</th>\n",
       "      <th>TENURE</th>\n",
       "      <th>MONTANT</th>\n",
       "      <th>FREQUENCE_RECH</th>\n",
       "      <th>REVENUE</th>\n",
       "      <th>ARPU_SEGMENT</th>\n",
       "      <th>FREQUENCE</th>\n",
       "      <th>DATA_VOLUME</th>\n",
       "      <th>ON_NET</th>\n",
       "      <th>ORANGE</th>\n",
       "      <th>REGULARITY</th>\n",
       "      <th>TOP_PACK</th>\n",
       "      <th>FREQ_TOP_PACK</th>\n",
       "    </tr>\n",
       "  </thead>\n",
       "  <tbody>\n",
       "    <tr>\n",
       "      <th>0</th>\n",
       "      <td>1</td>\n",
       "      <td>2</td>\n",
       "      <td>3</td>\n",
       "      <td>4</td>\n",
       "      <td>6</td>\n",
       "      <td>6</td>\n",
       "      <td>8</td>\n",
       "      <td>5</td>\n",
       "      <td>4</td>\n",
       "      <td>37</td>\n",
       "      <td>4</td>\n",
       "      <td>9</td>\n",
       "      <td>0</td>\n",
       "    </tr>\n",
       "  </tbody>\n",
       "</table>\n",
       "</div>"
      ],
      "text/plain": [
       "   REGION  TENURE  MONTANT  FREQUENCE_RECH  REVENUE  ARPU_SEGMENT  FREQUENCE  \\\n",
       "0       1       2        3               4        6             6          8   \n",
       "\n",
       "   DATA_VOLUME  ON_NET  ORANGE  REGULARITY  TOP_PACK  FREQ_TOP_PACK  \n",
       "0            5       4      37           4         9              0  "
      ]
     },
     "execution_count": 30,
     "metadata": {},
     "output_type": "execute_result"
    }
   ],
   "source": [
    "columns = ['REGION', 'TENURE', 'MONTANT', 'FREQUENCE_RECH', 'REVENUE', 'ARPU_SEGMENT', 'FREQUENCE', 'DATA_VOLUME',\n",
    "                   'ON_NET', 'ORANGE', 'REGULARITY', 'TOP_PACK', 'FREQ_TOP_PACK'] \n",
    "values = [[1, 2, 3, 4, 6, 6, 8, 5, 4, 37, 4, 9, 0]]\n",
    "\n",
    "features = pd.DataFrame(values, columns=columns)\n",
    "features"
   ]
  },
  {
   "cell_type": "code",
   "execution_count": null,
   "metadata": {},
   "outputs": [],
   "source": []
  }
 ],
 "metadata": {
  "kernelspec": {
   "display_name": "Python 3",
   "language": "python",
   "name": "python3"
  },
  "language_info": {
   "codemirror_mode": {
    "name": "ipython",
    "version": 3
   },
   "file_extension": ".py",
   "mimetype": "text/x-python",
   "name": "python",
   "nbconvert_exporter": "python",
   "pygments_lexer": "ipython3",
   "version": "3.8.2"
  }
 },
 "nbformat": 4,
 "nbformat_minor": 4
}
